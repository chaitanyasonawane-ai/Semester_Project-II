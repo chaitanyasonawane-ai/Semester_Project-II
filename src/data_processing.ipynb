{
  "nbformat": 4,
  "nbformat_minor": 0,
  "metadata": {
    "colab": {
      "provenance": [],
      "include_colab_link": true
    },
    "kernelspec": {
      "name": "python3",
      "display_name": "Python 3"
    },
    "language_info": {
      "name": "python"
    }
  },
  "cells": [
    {
      "cell_type": "markdown",
      "metadata": {
        "id": "view-in-github",
        "colab_type": "text"
      },
      "source": [
        "<a href=\"https://colab.research.google.com/github/chaitanyasonawane-ai/Semester_Project-II/blob/master/data_processing.ipynb\" target=\"_parent\"><img src=\"https://colab.research.google.com/assets/colab-badge.svg\" alt=\"Open In Colab\"/></a>"
      ]
    },
    {
      "cell_type": "code",
      "source": [
        "import nltk # for text processing\n",
        "nltk.download('punkt_tab') # tool kit for tokenization\n",
        "import pandas as pd # Data manupulation\n",
        "import re # text Cleaning\n",
        "from nltk.tokenize import word_tokenize # for split text\n",
        "from nltk.stem import PorterStemmer # reduce word in simple form"
      ],
      "metadata": {
        "colab": {
          "base_uri": "https://localhost:8080/"
        },
        "id": "hf_cGmzeQvNO",
        "outputId": "26f758b0-b1ef-4cee-da7b-ea307fbdd0be"
      },
      "execution_count": 12,
      "outputs": [
        {
          "output_type": "stream",
          "name": "stderr",
          "text": [
            "[nltk_data] Downloading package punkt_tab to /root/nltk_data...\n",
            "[nltk_data]   Package punkt_tab is already up-to-date!\n"
          ]
        }
      ]
    },
    {
      "cell_type": "code",
      "source": [
        "df = pd.read_csv('/content/YoutubeCommentsDataSet.csv') # add dataset"
      ],
      "metadata": {
        "id": "VvNWoiuDRjlc"
      },
      "execution_count": 13,
      "outputs": []
    },
    {
      "cell_type": "code",
      "source": [
        "# Checking the columns in dataset\n",
        "print(\"Columns in dataset:\", df.columns.tolist())"
      ],
      "metadata": {
        "colab": {
          "base_uri": "https://localhost:8080/"
        },
        "id": "om2odOjGRnzo",
        "outputId": "fb3ed0e7-33b3-4db7-aafe-8a1e610f1c84"
      },
      "execution_count": 14,
      "outputs": [
        {
          "output_type": "stream",
          "name": "stdout",
          "text": [
            "Columns in dataset: ['Comment', 'Sentiment']\n"
          ]
        }
      ]
    },
    {
      "cell_type": "code",
      "source": [
        "# Text Cleaning, Stopwords\n",
        "def clean_text(text):\n",
        "    text = str(text)\n",
        "    text = re.sub(r'http\\S+', '', text) # remove URL\n",
        "    text = re.sub(r'[^a-zA-Z\\s]', '', text) # remove emojis, spacial Char\n",
        "    return text.strip().lower() # convert lower case"
      ],
      "metadata": {
        "id": "9vF5JJWmRuGP"
      },
      "execution_count": 15,
      "outputs": []
    },
    {
      "cell_type": "code",
      "source": [
        "# Just Example\n",
        "sample_comment = \"Check out this video: https://youtu.be/FLZvOKSCkxY?si=-fVMETgk-_q3X2Wi  and subscribe!\"\n",
        "cleaned_sample = clean_text(sample_comment)\n",
        "print(\"Cleaned Sample:\", cleaned_sample)"
      ],
      "metadata": {
        "colab": {
          "base_uri": "https://localhost:8080/"
        },
        "id": "NvHKC1vMRy6r",
        "outputId": "5d2e565f-902c-443c-8c69-d9c72147cd34"
      },
      "execution_count": 16,
      "outputs": [
        {
          "output_type": "stream",
          "name": "stdout",
          "text": [
            "Cleaned Sample: check out this video   and subscribe\n"
          ]
        }
      ]
    },
    {
      "cell_type": "code",
      "source": [
        "# Clean overall Dataset\n",
        "df['clean_text'] = df['Comment'].apply(clean_text)"
      ],
      "metadata": {
        "id": "EEcPO68sSLlc"
      },
      "execution_count": 17,
      "outputs": []
    },
    {
      "cell_type": "code",
      "source": [
        "# Tokenization\n",
        "# seprate the text in words and convert in into SIMPLE FORM (ex. Running -> Run)\n",
        "stemmer = PorterStemmer() # for converting word in simple form\n",
        "df['stemmed_tokens'] = df['clean_text'].apply(\n",
        "    lambda x: [stemmer.stem(word) for word in word_tokenize(x)]\n",
        ")"
      ],
      "metadata": {
        "id": "tIG335IeUWzo"
      },
      "execution_count": 18,
      "outputs": []
    },
    {
      "cell_type": "code",
      "source": [
        "# Process the data in datsets\n",
        "print(\"\\nProcessed DataFrame:\")\n",
        "print(df[['Comment', 'clean_text', 'stemmed_tokens']].head())"
      ],
      "metadata": {
        "id": "p4hfD0ZiVAxb",
        "colab": {
          "base_uri": "https://localhost:8080/"
        },
        "outputId": "3ed0e502-d55d-4868-b4a5-0c3a036d9891"
      },
      "execution_count": 19,
      "outputs": [
        {
          "output_type": "stream",
          "name": "stdout",
          "text": [
            "\n",
            "Processed DataFrame:\n",
            "                                             Comment  \\\n",
            "0  lets not forget that apple pay in 2014 require...   \n",
            "1  here in nz 50 of retailers don’t even have con...   \n",
            "2  i will forever acknowledge this channel with t...   \n",
            "3  whenever i go to a place that doesn’t take app...   \n",
            "4  apple pay is so convenient secure and easy to ...   \n",
            "\n",
            "                                          clean_text  \\\n",
            "0  lets not forget that apple pay in  required a ...   \n",
            "1  here in nz  of retailers dont even have contac...   \n",
            "2  i will forever acknowledge this channel with t...   \n",
            "3  whenever i go to a place that doesnt take appl...   \n",
            "4  apple pay is so convenient secure and easy to ...   \n",
            "\n",
            "                                      stemmed_tokens  \n",
            "0  [let, not, forget, that, appl, pay, in, requir...  \n",
            "1  [here, in, nz, of, retail, dont, even, have, c...  \n",
            "2  [i, will, forev, acknowledg, thi, channel, wit...  \n",
            "3  [whenev, i, go, to, a, place, that, doesnt, ta...  \n",
            "4  [appl, pay, is, so, conveni, secur, and, easi,...  \n"
          ]
        }
      ]
    },
    {
      "cell_type": "code",
      "source": [],
      "metadata": {
        "id": "ZsXiky6zQcw1"
      },
      "execution_count": 19,
      "outputs": []
    }
  ]
}